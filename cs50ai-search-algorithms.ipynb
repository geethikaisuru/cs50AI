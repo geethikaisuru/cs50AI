{
 "cells": [
  {
   "cell_type": "code",
   "execution_count": 1,
   "id": "51e63756",
   "metadata": {
    "_cell_guid": "b1076dfc-b9ad-4769-8c92-a6c4dae69d19",
    "_uuid": "8f2839f25d086af736a60e9eeb907d3b93b6e0e5",
    "execution": {
     "iopub.execute_input": "2023-12-05T10:26:20.478808Z",
     "iopub.status.busy": "2023-12-05T10:26:20.478321Z",
     "iopub.status.idle": "2023-12-05T10:26:20.492704Z",
     "shell.execute_reply": "2023-12-05T10:26:20.491382Z"
    },
    "papermill": {
     "duration": 0.021834,
     "end_time": "2023-12-05T10:26:20.495524",
     "exception": false,
     "start_time": "2023-12-05T10:26:20.473690",
     "status": "completed"
    },
    "tags": []
   },
   "outputs": [],
   "source": [
    "import sys\n",
    "\n",
    "class Node():\n",
    "    def __init__(self, state, parent, action):\n",
    "        self.state = state\n",
    "        self.parent = parent\n",
    "        self.action = action\n",
    "        \n",
    "        \n",
    "class StackFrontier():\n",
    "    def __init__(self):\n",
    "        self.frontier = []"
   ]
  },
  {
   "cell_type": "code",
   "execution_count": null,
   "id": "f39a00e0",
   "metadata": {
    "papermill": {
     "duration": 0.001865,
     "end_time": "2023-12-05T10:26:20.499856",
     "exception": false,
     "start_time": "2023-12-05T10:26:20.497991",
     "status": "completed"
    },
    "tags": []
   },
   "outputs": [],
   "source": []
  },
  {
   "cell_type": "code",
   "execution_count": null,
   "id": "38636379",
   "metadata": {
    "papermill": {
     "duration": 0.001761,
     "end_time": "2023-12-05T10:26:20.505631",
     "exception": false,
     "start_time": "2023-12-05T10:26:20.503870",
     "status": "completed"
    },
    "tags": []
   },
   "outputs": [],
   "source": []
  }
 ],
 "metadata": {
  "kaggle": {
   "accelerator": "none",
   "dataSources": [],
   "isGpuEnabled": false,
   "isInternetEnabled": true,
   "language": "python",
   "sourceType": "notebook"
  },
  "kernelspec": {
   "display_name": "Python 3",
   "language": "python",
   "name": "python3"
  },
  "language_info": {
   "codemirror_mode": {
    "name": "ipython",
    "version": 3
   },
   "file_extension": ".py",
   "mimetype": "text/x-python",
   "name": "python",
   "nbconvert_exporter": "python",
   "pygments_lexer": "ipython3",
   "version": "3.10.12"
  },
  "papermill": {
   "default_parameters": {},
   "duration": 4.257794,
   "end_time": "2023-12-05T10:26:21.029907",
   "environment_variables": {},
   "exception": null,
   "input_path": "__notebook__.ipynb",
   "output_path": "__notebook__.ipynb",
   "parameters": {},
   "start_time": "2023-12-05T10:26:16.772113",
   "version": "2.4.0"
  }
 },
 "nbformat": 4,
 "nbformat_minor": 5
}
